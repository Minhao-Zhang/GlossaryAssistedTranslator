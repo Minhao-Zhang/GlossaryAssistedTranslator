{
 "cells": [
  {
   "cell_type": "markdown",
   "metadata": {},
   "source": [
    "# Download, Transcribe, Translate Videos"
   ]
  },
  {
   "cell_type": "code",
   "execution_count": 11,
   "metadata": {},
   "outputs": [],
   "source": [
    "import os \n",
    "os.chdir('../')"
   ]
  },
  {
   "cell_type": "markdown",
   "metadata": {},
   "source": [
    "## Download the video"
   ]
  },
  {
   "cell_type": "code",
   "execution_count": 12,
   "metadata": {},
   "outputs": [],
   "source": [
    "url = \"https://www.youtube.com/watch?v=95b_to5dmkY\""
   ]
  },
  {
   "cell_type": "code",
   "execution_count": null,
   "metadata": {},
   "outputs": [],
   "source": [
    "from open_translator.utils import *\n",
    "\n",
    "# video_file = download_video(url)\n",
    "video_filename = \"cache/95b_to5dmkY.webm\"\n",
    "filename_stem = \"\".join(video_filename.split('.')[:-1])"
   ]
  },
  {
   "cell_type": "code",
   "execution_count": null,
   "metadata": {},
   "outputs": [],
   "source": [
    "from open_translator.transcription import get_whisper_prompt\n",
    "\n",
    "whisper_prompt = get_whisper_prompt(video_filename)\n",
    "whisper_prompt = \"You are doing an Valorant analysis video. You might encounter words like: \""
   ]
  },
  {
   "cell_type": "code",
   "execution_count": 6,
   "metadata": {},
   "outputs": [],
   "source": [
    "from open_translator.transcription import transcribe_whisper \n",
    "\n",
    "start, end, english = transcribe_whisper(video_file, whisper_prompt=whisper_prompt)"
   ]
  },
  {
   "cell_type": "code",
   "execution_count": 8,
   "metadata": {},
   "outputs": [],
   "source": [
    "from open_translator.glossary_rag import GlossaryRAG\n",
    "from open_translator.glossary_matcher import GlossaryMatcher\n",
    "\n",
    "g_rag = GlossaryRAG(\"collection_name_1\", \"Snowflake/snowflake-arctic-embed-l-v2.0\")\n",
    "g_rag.load_from_dir(\"data\")\n",
    "g_mat = GlossaryMatcher()\n",
    "g_mat.load_from_dir(\"data\")"
   ]
  },
  {
   "cell_type": "code",
   "execution_count": 9,
   "metadata": {},
   "outputs": [],
   "source": [
    "from open_translator.open_translator import OllamaTranslator \n",
    "\n",
    "translator = OllamaTranslator(g_rag, g_mat)"
   ]
  },
  {
   "cell_type": "code",
   "execution_count": null,
   "metadata": {},
   "outputs": [],
   "source": [
    "chinese = translator.translate_sentences(english)"
   ]
  },
  {
   "cell_type": "code",
   "execution_count": null,
   "metadata": {},
   "outputs": [],
   "source": [
    "save_srt(f\"{filename_stem}.en.srt\", start, end, english)\n",
    "save_srt(f\"{filename_stem}.zh.srt\", start, end, chinese)\n",
    "\n",
    "save_bilingual_srt(f\"{filename_stem}.en-zh.srt\", start, end, english, chinese)"
   ]
  }
 ],
 "metadata": {
  "kernelspec": {
   "display_name": "video-translation",
   "language": "python",
   "name": "python3"
  },
  "language_info": {
   "codemirror_mode": {
    "name": "ipython",
    "version": 3
   },
   "file_extension": ".py",
   "mimetype": "text/x-python",
   "name": "python",
   "nbconvert_exporter": "python",
   "pygments_lexer": "ipython3",
   "version": "3.12.2"
  }
 },
 "nbformat": 4,
 "nbformat_minor": 2
}
