{
 "cells": [
  {
   "cell_type": "markdown",
   "metadata": {},
   "source": [
    "# Download, Transcribe, Translate Videos"
   ]
  },
  {
   "cell_type": "code",
   "execution_count": 1,
   "metadata": {},
   "outputs": [],
   "source": [
    "import os \n",
    "os.chdir('../')"
   ]
  },
  {
   "cell_type": "markdown",
   "metadata": {},
   "source": [
    "## Download the video"
   ]
  },
  {
   "cell_type": "code",
   "execution_count": 2,
   "metadata": {},
   "outputs": [],
   "source": [
    "url = \"https://www.youtube.com/watch?v=6H0g4lzo50s\""
   ]
  },
  {
   "cell_type": "code",
   "execution_count": 3,
   "metadata": {},
   "outputs": [
    {
     "name": "stdout",
     "output_type": "stream",
     "text": [
      "[youtube] Extracting URL: https://www.youtube.com/watch?v=6H0g4lzo50s\n",
      "[youtube] 6H0g4lzo50s: Downloading webpage\n",
      "[youtube] 6H0g4lzo50s: Downloading web creator player API JSON\n",
      "[youtube] 6H0g4lzo50s: Downloading mweb player API JSON\n",
      "[info] 6H0g4lzo50s: Downloading 1 format(s): 303+251\n",
      "[download] Destination: cache/6H0g4lzo50s.f303.webm\n",
      "[download] 100% of  566.39MiB in 00:00:38 at 14.85MiB/s     \n",
      "[download] Destination: cache/6H0g4lzo50s.f251.webm\n",
      "[download] 100% of   34.60MiB in 00:00:02 at 15.93MiB/s    \n",
      "[Merger] Merging formats into \"cache/6H0g4lzo50s.webm\"\n",
      "Deleting original file cache/6H0g4lzo50s.f303.webm (pass -k to keep)\n",
      "Deleting original file cache/6H0g4lzo50s.f251.webm (pass -k to keep)\n"
     ]
    }
   ],
   "source": [
    "from open_translator.utils import *\n",
    "\n",
    "video_filename = download_video(url)\n",
    "# video_filename = \"cache/95b_to5dmkY.webm\"\n",
    "filename_stem = \"\".join(video_filename.split('.')[:-1])"
   ]
  },
  {
   "cell_type": "code",
   "execution_count": 4,
   "metadata": {},
   "outputs": [
    {
     "name": "stderr",
     "output_type": "stream",
     "text": [
      "/home/zhangminhao/miniconda3/envs/video-translation/lib/python3.12/site-packages/tqdm/auto.py:21: TqdmWarning: IProgress not found. Please update jupyter and ipywidgets. See https://ipywidgets.readthedocs.io/en/stable/user_install.html\n",
      "  from .autonotebook import tqdm as notebook_tqdm\n"
     ]
    }
   ],
   "source": [
    "from open_translator.transcription import get_whisper_prompt\n",
    "\n",
    "whisper_prompt = get_whisper_prompt(video_filename)\n",
    "whisper_prompt = \"You are doing an Valorant analysis video. You might encounter words like: \" + whisper_prompt"
   ]
  },
  {
   "cell_type": "code",
   "execution_count": 5,
   "metadata": {},
   "outputs": [],
   "source": [
    "from open_translator.transcription import transcribe_whisper \n",
    "\n",
    "start, end, english = transcribe_whisper(video_filename, whisper_prompt=whisper_prompt)\n",
    "save_srt(f\"{filename_stem}.en.srt\", start, end, english)"
   ]
  },
  {
   "cell_type": "code",
   "execution_count": 6,
   "metadata": {},
   "outputs": [],
   "source": [
    "from open_translator.glossary_rag import GlossaryRAG\n",
    "from open_translator.glossary_matcher import GlossaryMatcher\n",
    "\n",
    "g_rag = GlossaryRAG(\"collection_name_1\", \"Snowflake/snowflake-arctic-embed-l-v2.0\")\n",
    "g_rag.load_from_dir(\"data\")\n",
    "g_mat = GlossaryMatcher()\n",
    "g_mat.load_from_dir(\"data\")"
   ]
  },
  {
   "cell_type": "code",
   "execution_count": 7,
   "metadata": {},
   "outputs": [],
   "source": [
    "from open_translator.open_translator import DeepSeekTranslator \n",
    "\n",
    "translator = DeepSeekTranslator(g_rag, g_mat)"
   ]
  },
  {
   "cell_type": "code",
   "execution_count": 8,
   "metadata": {},
   "outputs": [
    {
     "name": "stderr",
     "output_type": "stream",
     "text": [
      "Translating sentences: 100%|██████████| 721/721 [13:30<00:00,  1.12s/it]\n"
     ]
    }
   ],
   "source": [
    "chinese = translator.translate_sentences(english)"
   ]
  },
  {
   "cell_type": "code",
   "execution_count": 9,
   "metadata": {},
   "outputs": [],
   "source": [
    "save_srt(f\"{filename_stem}.zh.srt\", start, end, chinese)\n",
    "\n",
    "save_bilingual_srt(f\"{filename_stem}.en-zh.srt\", start, end, english, chinese)"
   ]
  }
 ],
 "metadata": {
  "kernelspec": {
   "display_name": "video-translation",
   "language": "python",
   "name": "python3"
  },
  "language_info": {
   "codemirror_mode": {
    "name": "ipython",
    "version": 3
   },
   "file_extension": ".py",
   "mimetype": "text/x-python",
   "name": "python",
   "nbconvert_exporter": "python",
   "pygments_lexer": "ipython3",
   "version": "3.12.2"
  }
 },
 "nbformat": 4,
 "nbformat_minor": 2
}
