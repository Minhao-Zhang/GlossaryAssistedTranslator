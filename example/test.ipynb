{
 "cells": [
  {
   "cell_type": "markdown",
   "metadata": {},
   "source": [
    "# Download, Transcribe, Translate Videos"
   ]
  },
  {
   "cell_type": "code",
   "execution_count": 1,
   "metadata": {},
   "outputs": [],
   "source": [
    "import os \n",
    "os.chdir('../')"
   ]
  },
  {
   "cell_type": "markdown",
   "metadata": {},
   "source": [
    "## Download the video"
   ]
  },
  {
   "cell_type": "code",
   "execution_count": 2,
   "metadata": {},
   "outputs": [],
   "source": [
    "url = \"https://www.youtube.com/watch?v=iVaLCY9Zec0\""
   ]
  },
  {
   "cell_type": "code",
   "execution_count": 3,
   "metadata": {},
   "outputs": [
    {
     "name": "stdout",
     "output_type": "stream",
     "text": [
      "[youtube] Extracting URL: https://www.youtube.com/watch?v=iVaLCY9Zec0\n",
      "[youtube] iVaLCY9Zec0: Downloading webpage\n",
      "[youtube] iVaLCY9Zec0: Downloading web creator player API JSON\n",
      "[youtube] iVaLCY9Zec0: Downloading mweb player API JSON\n",
      "[info] iVaLCY9Zec0: Downloading 1 format(s): 303+251\n",
      "[download] Destination: cache/iVaLCY9Zec0.f303.webm\n",
      "[download] 100% of  417.86MiB in 00:00:43 at 9.54MiB/s      \n",
      "[download] Destination: cache/iVaLCY9Zec0.f251.webm\n",
      "[download] 100% of   23.87MiB in 00:00:02 at 8.73MiB/s     \n",
      "[Merger] Merging formats into \"cache/iVaLCY9Zec0.webm\"\n",
      "Deleting original file cache/iVaLCY9Zec0.f251.webm (pass -k to keep)\n",
      "Deleting original file cache/iVaLCY9Zec0.f303.webm (pass -k to keep)\n"
     ]
    }
   ],
   "source": [
    "from gat.utils import *\n",
    "\n",
    "video_filename = download_video(url)\n",
    "# video_filename = \"cache/95b_to5dmkY.webm\"\n",
    "filename_stem = \"\".join(video_filename.split('.')[:-1])"
   ]
  },
  {
   "cell_type": "code",
   "execution_count": null,
   "metadata": {},
   "outputs": [
    {
     "name": "stderr",
     "output_type": "stream",
     "text": [
      "/home/zhangminhao/miniconda3/envs/video-translation/lib/python3.12/site-packages/tqdm/auto.py:21: TqdmWarning: IProgress not found. Please update jupyter and ipywidgets. See https://ipywidgets.readthedocs.io/en/stable/user_install.html\n",
      "  from .autonotebook import tqdm as notebook_tqdm\n"
     ]
    }
   ],
   "source": [
    "from gat.transcription import get_whisper_prompt\n",
    "\n",
    "whisper_prompt = get_whisper_prompt(video_filename)\n",
    "whisper_prompt = \"You are doing an Valorant analysis video. You might encounter words like: \" + whisper_prompt"
   ]
  },
  {
   "cell_type": "code",
   "execution_count": 5,
   "metadata": {},
   "outputs": [],
   "source": [
    "from gat.transcription import transcribe_whisper \n",
    "\n",
    "start, end, english = transcribe_whisper(video_filename, whisper_prompt=whisper_prompt)\n",
    "save_srt(f\"{filename_stem}.en.srt\", start, end, english)"
   ]
  },
  {
   "cell_type": "code",
   "execution_count": null,
   "metadata": {},
   "outputs": [],
   "source": [
    "start, end, english = load_srt(f\"{filename_stem}.en.srt\")"
   ]
  },
  {
   "cell_type": "code",
   "execution_count": 6,
   "metadata": {},
   "outputs": [],
   "source": [
    "from gat.glossary_rag import GlossaryRAG\n",
    "from gat.glossary_matcher import GlossaryMatcher\n",
    "\n",
    "g_rag = GlossaryRAG(\"collection_name_1\", \"Snowflake/snowflake-arctic-embed-l-v2.0\")\n",
    "g_rag.load_from_dir(\"data\")\n",
    "g_mat = GlossaryMatcher()\n",
    "g_mat.load_from_dir(\"data\")"
   ]
  },
  {
   "cell_type": "code",
   "execution_count": 7,
   "metadata": {},
   "outputs": [],
   "source": [
    "from gat.translator import DeepSeekTranslator \n",
    "\n",
    "translator = DeepSeekTranslator(g_rag, g_mat)"
   ]
  },
  {
   "cell_type": "code",
   "execution_count": 8,
   "metadata": {},
   "outputs": [
    {
     "name": "stderr",
     "output_type": "stream",
     "text": [
      "Translating sentences: 100%|██████████| 156/156 [05:35<00:00,  2.15s/it]\n"
     ]
    }
   ],
   "source": [
    "chinese = translator.translate_sentences(english)"
   ]
  },
  {
   "cell_type": "code",
   "execution_count": 9,
   "metadata": {},
   "outputs": [],
   "source": [
    "save_srt(f\"{filename_stem}.zh.srt\", start, end, chinese)\n",
    "\n",
    "save_bilingual_srt(f\"{filename_stem}.en-zh.srt\", start, end, english, chinese)"
   ]
  }
 ],
 "metadata": {
  "kernelspec": {
   "display_name": "video-translation",
   "language": "python",
   "name": "python3"
  },
  "language_info": {
   "codemirror_mode": {
    "name": "ipython",
    "version": 3
   },
   "file_extension": ".py",
   "mimetype": "text/x-python",
   "name": "python",
   "nbconvert_exporter": "python",
   "pygments_lexer": "ipython3",
   "version": "3.12.4"
  }
 },
 "nbformat": 4,
 "nbformat_minor": 2
}
