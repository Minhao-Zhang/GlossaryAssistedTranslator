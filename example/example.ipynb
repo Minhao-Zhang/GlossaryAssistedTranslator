{
 "cells": [
  {
   "cell_type": "markdown",
   "metadata": {},
   "source": [
    "# Translate any video into any language"
   ]
  },
  {
   "cell_type": "markdown",
   "metadata": {},
   "source": [
    "## Preparation "
   ]
  },
  {
   "cell_type": "code",
   "execution_count": 1,
   "metadata": {},
   "outputs": [],
   "source": [
    "# imports \n",
    "# this might be necessary if you are using docker the way I am\n",
    "import os \n",
    "os.chdir('../')"
   ]
  },
  {
   "cell_type": "code",
   "execution_count": 2,
   "metadata": {},
   "outputs": [],
   "source": [
    "# set url for video\n",
    "url = \"https://www.youtube.com/watch?v=a03U45jFxOI\" # replace with any url"
   ]
  },
  {
   "cell_type": "markdown",
   "metadata": {},
   "source": [
    "## Process Audio"
   ]
  },
  {
   "cell_type": "code",
   "execution_count": 6,
   "metadata": {},
   "outputs": [],
   "source": [
    "# download audio\n",
    "from open_translator.download import download_video\n",
    "video_file = download_video(url, output_dir='../cache')"
   ]
  },
  {
   "cell_type": "code",
   "execution_count": null,
   "metadata": {},
   "outputs": [],
   "source": [
    "# transcribe audio\n",
    "from open_translator.transcription import transcribe_whisper\n",
    "start, end, english = transcribe_whisper(video_file)"
   ]
  },
  {
   "cell_type": "markdown",
   "metadata": {},
   "source": [
    "## Translate Trasncript"
   ]
  },
  {
   "cell_type": "code",
   "execution_count": null,
   "metadata": {},
   "outputs": [],
   "source": [
    "# translate to any langugaes\n",
    "from open_translator.translate_ollama import translate_subtitle_v1\n",
    "\n",
    "to_lang = \"Simpliefied Chinese (Mandarin)\"\n",
    "system_prompt = f\"\"\"\n",
    "You are a multilingual subtitle translation assistant. Translate the following English subtitle to {to_lang}. \n",
    "Ensure the translation feels natural and culturally localized, avoiding direct English phrasing where possible.\n",
    "Each translation should consider the preceding sentence to ensure contextual accuracy. \n",
    "Reply only the translation text and nothing else.\n",
    "\"\"\" \n",
    "\n",
    "chinese = translate_subtitle_v1(english, system_prompt, \"qwen2.5:7b\")"
   ]
  },
  {
   "cell_type": "markdown",
   "metadata": {},
   "source": [
    "## Save to SRT"
   ]
  },
  {
   "cell_type": "code",
   "execution_count": 7,
   "metadata": {},
   "outputs": [],
   "source": [
    "# save srt files\n",
    "from open_translator.srt_utils import *\n",
    "\n",
    "filename = \"\".join(video_file.split('.')[:-1])\n",
    "\n",
    "save_srt(f'{filename}.en.srt', start, end, english)\n",
    "save_srt(f'{filename}.zh.srt', start, end, chinese)"
   ]
  },
  {
   "cell_type": "code",
   "execution_count": 8,
   "metadata": {},
   "outputs": [],
   "source": [
    "# after manual correction, update the srt files\n",
    "# start, end, english = load_srt(f'{filename}.en.srt')\n",
    "start, end, chinese = load_srt(f'{filename}.zh.srt')\n",
    "\n",
    "save_srt(f'{filename}.davinci.zh.srt', start, end, chinese, True)\n",
    "# save_srt(f'{filename}.davinci.en.srt', start, end, english, True)\n",
    "# save_bilingual_srt(f'{filename}.zh.en.srt', start, end, english, chinese)\n",
    "# save_bilingual_srt(f'{filename}.davinci.zh.en.srt', start, end, chinese, english, True)"
   ]
  }
 ],
 "metadata": {
  "kernelspec": {
   "display_name": "video-translation",
   "language": "python",
   "name": "python3"
  },
  "language_info": {
   "codemirror_mode": {
    "name": "ipython",
    "version": 3
   },
   "file_extension": ".py",
   "mimetype": "text/x-python",
   "name": "python",
   "nbconvert_exporter": "python",
   "pygments_lexer": "ipython3",
   "version": "3.12.2"
  }
 },
 "nbformat": 4,
 "nbformat_minor": 2
}
