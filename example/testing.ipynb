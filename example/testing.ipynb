{
 "cells": [
  {
   "cell_type": "code",
   "execution_count": 1,
   "metadata": {},
   "outputs": [],
   "source": [
    "import os \n",
    "os.chdir(\"../\")"
   ]
  },
  {
   "cell_type": "code",
   "execution_count": 2,
   "metadata": {},
   "outputs": [
    {
     "name": "stdout",
     "output_type": "stream",
     "text": [
      "cache/iVaLCY9Zec0\n"
     ]
    }
   ],
   "source": [
    "from gat.utils import * \n",
    "\n",
    "url = \"https://www.youtube.com/watch?v=iVaLCY9Zec0\"\n",
    "\n",
    "# video_file = download_video(url)\n",
    "\n",
    "video_file = \"cache/iVaLCY9Zec0.webm\"\n",
    "\n",
    "file_prefix = video_file[:-5]\n",
    "\n",
    "print(file_prefix)"
   ]
  },
  {
   "cell_type": "code",
   "execution_count": 3,
   "metadata": {},
   "outputs": [
    {
     "name": "stderr",
     "output_type": "stream",
     "text": [
      "/home/zhangminhao/miniconda3/envs/video-translation/lib/python3.12/site-packages/tqdm/auto.py:21: TqdmWarning: IProgress not found. Please update jupyter and ipywidgets. See https://ipywidgets.readthedocs.io/en/stable/user_install.html\n",
      "  from .autonotebook import tqdm as notebook_tqdm\n"
     ]
    }
   ],
   "source": [
    "from gat.transcription import *\n",
    "\n",
    "whisper_prompt = get_whisper_prompt(\"data\")\n",
    "whisper_prmopt = \"You are hosting a Valorant analysis video. You will encounter words like \" + whisper_prompt\n",
    "\n",
    "start, end, english = transcribe_whisper(video_file, whisper_prompt=whisper_prmopt)\n",
    "save_srt(file_prefix + \".en.srt\", start, end, english)"
   ]
  },
  {
   "cell_type": "code",
   "execution_count": 4,
   "metadata": {},
   "outputs": [],
   "source": [
    "# start, end, english = load_srt(file_prefix + \".en.srt\")"
   ]
  },
  {
   "cell_type": "code",
   "execution_count": 4,
   "metadata": {},
   "outputs": [],
   "source": [
    "from gat.glossary_matcher import GlossaryMatcher\n",
    "\n",
    "gm = GlossaryMatcher()\n",
    "gm.load_from_dir()\n"
   ]
  },
  {
   "cell_type": "code",
   "execution_count": 5,
   "metadata": {},
   "outputs": [
    {
     "name": "stderr",
     "output_type": "stream",
     "text": [
      "Translating sentences: 100%|██████████| 409/409 [08:35<00:00,  1.26s/it]\n"
     ]
    }
   ],
   "source": [
    "from gat.translators import DeepSeekTranslator\n",
    "\n",
    "translator = DeepSeekTranslator(matcher=gm)\n",
    "\n",
    "chinese = translator.translate_sentences(english)"
   ]
  },
  {
   "cell_type": "code",
   "execution_count": 6,
   "metadata": {},
   "outputs": [],
   "source": [
    "save_srt(file_prefix + \".zh.srt\", start, end, chinese)"
   ]
  },
  {
   "cell_type": "code",
   "execution_count": 4,
   "metadata": {},
   "outputs": [],
   "source": [
    "start, end, chinese = load_srt(file_prefix + \".zh.srt\")\n",
    "save_srt(file_prefix + \".davinci.zh.srt\", start, end, chinese, davinci=True)"
   ]
  }
 ],
 "metadata": {
  "kernelspec": {
   "display_name": "video-translation",
   "language": "python",
   "name": "python3"
  },
  "language_info": {
   "codemirror_mode": {
    "name": "ipython",
    "version": 3
   },
   "file_extension": ".py",
   "mimetype": "text/x-python",
   "name": "python",
   "nbconvert_exporter": "python",
   "pygments_lexer": "ipython3",
   "version": "3.12.4"
  }
 },
 "nbformat": 4,
 "nbformat_minor": 2
}
