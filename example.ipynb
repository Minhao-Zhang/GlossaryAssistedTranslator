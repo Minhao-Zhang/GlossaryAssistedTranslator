{
 "cells": [
  {
   "cell_type": "markdown",
   "metadata": {},
   "source": [
    "# Translate any video into any language"
   ]
  },
  {
   "cell_type": "markdown",
   "metadata": {},
   "source": [
    "## Preparation "
   ]
  },
  {
   "cell_type": "code",
   "execution_count": 1,
   "metadata": {},
   "outputs": [],
   "source": [
    "# imports \n",
    "# this might be necessary if you are using docker the way I am\n",
    "import os \n",
    "os.chdir('video-translation')\n",
    "from utils import *"
   ]
  },
  {
   "cell_type": "code",
   "execution_count": 2,
   "metadata": {},
   "outputs": [],
   "source": [
    "# set url for video\n",
    "url = \"https://www.youtube.com/watch?v=a03U45jFxOI\""
   ]
  },
  {
   "cell_type": "markdown",
   "metadata": {},
   "source": [
    "## Process Audio"
   ]
  },
  {
   "cell_type": "code",
   "execution_count": 3,
   "metadata": {},
   "outputs": [
    {
     "name": "stdout",
     "output_type": "stream",
     "text": [
      "[youtube] Extracting URL: https://www.youtube.com/watch?v=a03U45jFxOI\n",
      "[youtube] a03U45jFxOI: Downloading webpage\n",
      "[youtube] a03U45jFxOI: Downloading ios player API JSON\n",
      "[youtube] a03U45jFxOI: Downloading mweb player API JSON\n",
      "[youtube] a03U45jFxOI: Downloading m3u8 information\n",
      "[info] a03U45jFxOI: Downloading 1 format(s): 616+251\n",
      "[hlsnative] Downloading m3u8 manifest\n",
      "[hlsnative] Total fragments: 63\n",
      "[download] Destination: cache/a03U45jFxOI.f616.mp4\n",
      "[download]  44.3% of ~ 104.92MiB at    4.55MiB/s ETA 00:13 (frag 29/63)"
     ]
    },
    {
     "name": "stderr",
     "output_type": "stream",
     "text": [
      "[download] Got error: [SSL: UNEXPECTED_EOF_WHILE_READING] EOF occurred in violation of protocol (_ssl.c:1007)\n"
     ]
    },
    {
     "name": "stdout",
     "output_type": "stream",
     "text": [
      "[download] fragment not found; Skipping fragment 30 ...\n",
      "[download] 100% of  108.79MiB in 00:00:34 at 3.18MiB/s                   \n",
      "[download] Destination: cache/a03U45jFxOI.f251.webm\n",
      "[download] 100% of    4.48MiB in 00:00:00 at 8.60MiB/s   \n",
      "[Merger] Merging formats into \"cache/a03U45jFxOI.webm\"\n",
      "Deleting original file cache/a03U45jFxOI.f616.mp4 (pass -k to keep)\n",
      "Deleting original file cache/a03U45jFxOI.f251.webm (pass -k to keep)\n"
     ]
    }
   ],
   "source": [
    "# download audio\n",
    "video_file = download_video(url, output_dir='cache')"
   ]
  },
  {
   "cell_type": "code",
   "execution_count": 4,
   "metadata": {},
   "outputs": [
    {
     "name": "stderr",
     "output_type": "stream",
     "text": [
      "/usr/local/lib/python3.10/dist-packages/whisper/__init__.py:150: FutureWarning: You are using `torch.load` with `weights_only=False` (the current default value), which uses the default pickle module implicitly. It is possible to construct malicious pickle data which will execute arbitrary code during unpickling (See https://github.com/pytorch/pytorch/blob/main/SECURITY.md#untrusted-models for more details). In a future release, the default value for `weights_only` will be flipped to `True`. This limits the functions that could be executed during unpickling. Arbitrary objects will no longer be allowed to be loaded via this mode unless they are explicitly allowlisted by the user via `torch.serialization.add_safe_globals`. We recommend you start setting `weights_only=True` for any use case where you don't have full control of the loaded file. Please open an issue on GitHub for any issues related to this experimental feature.\n",
      "  checkpoint = torch.load(fp, map_location=device)\n",
      " 98%|█████████▊| 32088/32812 [00:36<00:00, 887.00frames/s] \n"
     ]
    }
   ],
   "source": [
    "# transcribe audio\n",
    "transcription = transcribe_audio(video_file)\n",
    "start, end, english = extract_transcription(transcription)"
   ]
  },
  {
   "cell_type": "markdown",
   "metadata": {},
   "source": [
    "## Translate Trasncript"
   ]
  },
  {
   "cell_type": "code",
   "execution_count": 5,
   "metadata": {},
   "outputs": [],
   "source": [
    "# summarize transcription\n",
    "# you might want to generate a long context Ollama model first\n",
    "summarized_transcription = summarize_transcription(transcription, \"8k-qwen2.5:7b\")"
   ]
  },
  {
   "cell_type": "code",
   "execution_count": 6,
   "metadata": {},
   "outputs": [
    {
     "name": "stderr",
     "output_type": "stream",
     "text": [
      "100%|██████████| 86/86 [00:37<00:00,  2.32it/s]\n"
     ]
    }
   ],
   "source": [
    "# translate to any langugaes\n",
    "to_lang = \"Simpliefied Chinese (Mandarin)\"\n",
    "system_prompt = f\"\"\"\n",
    "You are a multilingual subtitle translation assistant. Translate the following English subtitle to {to_lang}. \n",
    "Here is a short summary of the video content: {summarized_transcription}\n",
    "Ensure the translation feels natural and culturally localized, avoiding direct English phrasing where possible.\n",
    "Each translation should consider the preceding sentence to ensure contextual accuracy. \n",
    "Reply only the translation text and nothing else.\n",
    "\"\"\" \n",
    "\n",
    "chinese = translate_subtitle(english, system_prompt, \"qwen2.5:7b\")"
   ]
  },
  {
   "cell_type": "markdown",
   "metadata": {},
   "source": [
    "## Save to SRT"
   ]
  },
  {
   "cell_type": "code",
   "execution_count": 7,
   "metadata": {},
   "outputs": [],
   "source": [
    "# save srt files\n",
    "filename = \"\".join(video_file.split('.')[:-1])\n",
    "\n",
    "save_srt(f'{filename}.en.srt', start, end, english)\n",
    "save_srt(f'{filename}.zh.srt', start, end, chinese)"
   ]
  },
  {
   "cell_type": "code",
   "execution_count": 8,
   "metadata": {},
   "outputs": [],
   "source": [
    "# after manual correction, update the srt files\n",
    "# start, end, english = load_srt(f'{filename}.en.srt')\n",
    "start, end, chinese = load_srt(f'{filename}.zh.srt')\n",
    "\n",
    "save_srt(f'{filename}.davinci.zh.srt', start, end, chinese, True)\n",
    "# save_srt(f'{filename}.davinci.en.srt', start, end, english, True)\n",
    "# save_bilingual_srt(f'{filename}.zh.en.srt', start, end, english, chinese)\n",
    "# save_bilingual_srt(f'{filename}.davinci.zh.en.srt', start, end, chinese, english, True)"
   ]
  }
 ],
 "metadata": {
  "kernelspec": {
   "display_name": "Python 3",
   "language": "python",
   "name": "python3"
  },
  "language_info": {
   "codemirror_mode": {
    "name": "ipython",
    "version": 3
   },
   "file_extension": ".py",
   "mimetype": "text/x-python",
   "name": "python",
   "nbconvert_exporter": "python",
   "pygments_lexer": "ipython3",
   "version": "3.10.12"
  }
 },
 "nbformat": 4,
 "nbformat_minor": 2
}
