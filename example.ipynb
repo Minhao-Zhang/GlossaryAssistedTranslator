{
 "cells": [
  {
   "cell_type": "markdown",
   "metadata": {},
   "source": [
    "# Translate any video into any language"
   ]
  },
  {
   "cell_type": "markdown",
   "metadata": {},
   "source": [
    "## Preparation "
   ]
  },
  {
   "cell_type": "code",
   "execution_count": null,
   "metadata": {},
   "outputs": [],
   "source": [
    "# imports \n",
    "# this might be necessary if you are using docker the way I am\n",
    "import os \n",
    "os.chdir('video-translation')\n",
    "from utils import *"
   ]
  },
  {
   "cell_type": "code",
   "execution_count": null,
   "metadata": {},
   "outputs": [],
   "source": [
    "# set url for video\n",
    "url = \"https://www.youtube.com/watch?v=gbNzxvz2_H4\""
   ]
  },
  {
   "cell_type": "markdown",
   "metadata": {},
   "source": [
    "## Process Audio"
   ]
  },
  {
   "cell_type": "code",
   "execution_count": null,
   "metadata": {},
   "outputs": [],
   "source": [
    "# download audio\n",
    "audio_file = download_audio(url)"
   ]
  },
  {
   "cell_type": "code",
   "execution_count": null,
   "metadata": {},
   "outputs": [],
   "source": [
    "# transcribe audio\n",
    "transcription = transcribe_audio(audio_file)\n",
    "with open('transcription.txt', 'w') as f:\n",
    "    f.write(transcription['text'])\n",
    "start, end, english = extract_transcription(transcription)"
   ]
  },
  {
   "cell_type": "markdown",
   "metadata": {},
   "source": [
    "## Translate Trasncript"
   ]
  },
  {
   "cell_type": "code",
   "execution_count": null,
   "metadata": {},
   "outputs": [],
   "source": [
    "# summarize transcription\n",
    "# you might want to generate a long context Ollama model first\n",
    "summarized_transcription = summarize_transcription(transcription, \"8k-qwen2.5:7b\")"
   ]
  },
  {
   "cell_type": "code",
   "execution_count": null,
   "metadata": {},
   "outputs": [],
   "source": [
    "# translate to any langugaes\n",
    "video_context = \"A Minecraft Movie | Official Trailer (我的世界真人电影|预告)\" # you can use this to make the model more accurate\n",
    "system_prompt = f\"\"\"\n",
    "Translate the following English text to Simplified Chinese (Mandarin). The text is part of a {video_context} video script. \n",
    "Here is a short summary of the video content: {summarized_transcription}\n",
    "Ensure the translation feels natural and culturally localized, avoiding direct English phrasing where possible. \n",
    "Maintain a tone that is light, friendly, and suitable for the context, but not overly cheerful. Keep the translation concise. \n",
    "Only reply with the translation text, nothing else. \n",
    "Here is the English text to translate:\n",
    "\"\"\" \n",
    "\n",
    "chinese = translate_transcription(english, system_prompt, \"qwen2.5:7b\")"
   ]
  },
  {
   "cell_type": "markdown",
   "metadata": {},
   "source": [
    "## Save to SRT"
   ]
  },
  {
   "cell_type": "code",
   "execution_count": null,
   "metadata": {},
   "outputs": [],
   "source": [
    "# save srt files\n",
    "filename = \"\".join(audio_file.split('.')[:-1])\n",
    "\n",
    "save_srt(f'{filename}.en.srt', start, end, english)\n",
    "save_srt(f'{filename}.zh.srt', start, end, chinese)"
   ]
  },
  {
   "cell_type": "code",
   "execution_count": null,
   "metadata": {},
   "outputs": [],
   "source": [
    "# download video\n",
    "os.remove(audio_file)\n",
    "video_file = download_video(url)"
   ]
  },
  {
   "cell_type": "code",
   "execution_count": null,
   "metadata": {},
   "outputs": [],
   "source": [
    "# after manual correction, update the srt files\n",
    "# start, end, english = load_srt(f'{filename}.en.srt')\n",
    "start, end, chinese = load_srt(f'{filename}.zh.srt')\n",
    "\n",
    "save_srt(f'{filename}.davinci.zh.srt', start, end, chinese, True)\n",
    "# save_srt(f'{filename}.davinci.en.srt', start, end, english, True)\n",
    "# save_bilingual_srt(f'{filename}.zh.en.srt', start, end, english, chinese)\n",
    "# save_bilingual_srt(f'{filename}.davinci.zh.en.srt', start, end, chinese, english, True)"
   ]
  }
 ],
 "metadata": {
  "kernelspec": {
   "display_name": "Python 3",
   "language": "python",
   "name": "python3"
  },
  "language_info": {
   "codemirror_mode": {
    "name": "ipython",
    "version": 3
   },
   "file_extension": ".py",
   "mimetype": "text/x-python",
   "name": "python",
   "nbconvert_exporter": "python",
   "pygments_lexer": "ipython3",
   "version": "3.10.12"
  }
 },
 "nbformat": 4,
 "nbformat_minor": 2
}
